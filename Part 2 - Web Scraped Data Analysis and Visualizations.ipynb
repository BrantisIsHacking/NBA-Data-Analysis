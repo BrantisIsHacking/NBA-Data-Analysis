{
 "cells": [
  {
   "cell_type": "markdown",
   "metadata": {},
   "source": [
    "# NBA Data Analysis\n",
    "\n",
    "**Name:** Brayden Uglione\n",
    "\n",
    "**Date:** 11/13/24\n",
    "\n",
    "**Exercise:** Project #2, Part 2: Web Scraped Data Analysis and Visualizations\n",
    "\n",
    "**Purpose:** Scrapes data from Basketball Reference for various NBA seasons, analyze the data, and answer questions regarding team performance metrics.\n",
    "\n",
    "**Citations:**\n",
    "\n",
    "https://realpython.com/beautiful-soup-web-scraper-python/\n",
    "\n",
    "https://www.youtube.com/watch?v=A1s1aGHoODs\n",
    "\n",
    "https://www.youtube.com/watch?v=bargNl2WeN4"
   ]
  },
  {
   "cell_type": "markdown",
   "metadata": {},
   "source": [
    "### Import Libraries"
   ]
  },
  {
   "cell_type": "code",
   "execution_count": null,
   "metadata": {},
   "outputs": [],
   "source": [
    "import requests\n",
    "from bs4 import BeautifulSoup\n",
    "import pandas as pd\n",
    "import time"
   ]
  },
  {
   "cell_type": "markdown",
   "metadata": {},
   "source": [
    "### Function to Scrape NBA Statistics"
   ]
  },
  {
   "cell_type": "code",
   "execution_count": null,
   "metadata": {},
   "outputs": [],
   "source": [
    "def scrape_nba_stats(url):\n",
    "    response = requests.get(url)\n",
    "    soup = BeautifulSoup(response.content, 'html.parser')\n",
    "\n",
    "    # Initialize empty lists\n",
    "    per_game_stats = []\n",
    "    total_stats_team = []\n",
    "    total_stats_opponent = []\n",
    "    advanced_stats = []\n",
    "\n",
    "    # Scrape Per Game Stats\n",
    "    per_game_table = soup.find('table', {'id': 'per_game-team'})\n",
    "    for row in per_game_table.find_all('tr')[1:]:\n",
    "        cols = row.find_all('td')\n",
    "        \n",
    "        if cols:\n",
    "            if cols[0].text.strip() == \"League Average\":\n",
    "                continue\n",
    "            \n",
    "            team = cols[0].text.strip()\n",
    "            three_point_attempts = float(cols[7].text.strip())\n",
    "            total_rebounds = float(cols[17].text.strip())\n",
    "            \n",
    "            per_game_stats.append({\n",
    "                'Team': team,\n",
    "                '3PA': three_point_attempts,\n",
    "                'TRB': total_rebounds\n",
    "            })\n",
    "\n",
    "    # Scrape Total Stats (Team)\n",
    "    total_stats_table = soup.find('table', {'id': 'totals-team'})\n",
    "    for row in total_stats_table.find_all('tr')[1:]:\n",
    "        cols = row.find_all('td')\n",
    "        \n",
    "        if cols:\n",
    "            if cols[0].text.strip() == \"League Average\":\n",
    "                continue\n",
    "            \n",
    "            team = cols[0].text.strip()\n",
    "            points = int(cols[-1].text.strip())\n",
    "            assists = int(cols[-6].text.strip())\n",
    "            turnovers = int(cols[-3].text.strip())\n",
    "            \n",
    "            total_stats_team.append({\n",
    "                'Team': team,\n",
    "                'PTS': points,\n",
    "                'AST': assists,\n",
    "                'TOV': turnovers\n",
    "            })\n",
    "    \n",
    "    # Scrape Total Stats (Opponent)\n",
    "    opponent_stats_table = soup.find('table', {'id': 'totals-opponent'})\n",
    "    for row in opponent_stats_table.find_all('tr')[1:]:\n",
    "        cols = row.find_all('td')\n",
    "        \n",
    "        if cols:\n",
    "            if cols[0].text.strip() == \"League Average\":\n",
    "                continue\n",
    "            \n",
    "            team = cols[0].text.strip() \n",
    "            points = int(cols[-1].text.strip())\n",
    "            total_stats_opponent.append({\n",
    "                'Team': team,\n",
    "                'PTS_Opponent': points\n",
    "            })\n",
    "\n",
    "    # Scrape Advanced Stats\n",
    "    advanced_stats_table = soup.find('table', {'id': 'advanced-team'})\n",
    "    for row in advanced_stats_table.find_all('tr')[1:]:\n",
    "        cols = row.find_all('td')\n",
    "        \n",
    "        if cols:\n",
    "            if cols[0].text.strip() == \"League Average\":\n",
    "                continue\n",
    "            \n",
    "            team = cols[0].text.strip()\n",
    "            offensive_rating = float(cols[9].text.strip())\n",
    "            wins = int(cols[2].text.strip())\n",
    "            losses = int(cols[3].text.strip())\n",
    "            \n",
    "            advanced_stats.append({\n",
    "                'Team': team,\n",
    "                'ORTg': offensive_rating,\n",
    "                'W': wins,\n",
    "                'L': losses\n",
    "            })\n",
    "\n",
    "    # Convert lists to DataFrames\n",
    "    df_per_game = pd.DataFrame(per_game_stats)\n",
    "    df_total_team = pd.DataFrame(total_stats_team)\n",
    "    df_total_opponent = pd.DataFrame(total_stats_opponent)\n",
    "    df_advanced = pd.DataFrame(advanced_stats)\n",
    "\n",
    "    # Merge all DataFrames on the Team column\n",
    "    merged_df = df_per_game.merge(df_total_team, on='Team', how='outer').merge(df_total_opponent, on='Team', how='outer').merge(df_advanced, on='Team', how='outer')\n",
    "    \n",
    "    # Export the DataFrame to a CSV file\n",
    "    merged_df.to_csv('nba_team_stats.csv', index=False)\n",
    "\n",
    "    # return merged_df\n",
    "    return merged_df"
   ]
  },
  {
   "cell_type": "code",
   "execution_count": null,
   "metadata": {},
   "outputs": [],
   "source": [
    "url = \"https://www.basketball-reference.com/leagues/NBA_2024.html\"\n",
    "nba_data_df = scrape_nba_stats(url)\n",
    "print(nba_data_df)"
   ]
  },
  {
   "cell_type": "markdown",
   "metadata": {},
   "source": [
    "## Data Analysis and Visualization"
   ]
  },
  {
   "cell_type": "code",
   "execution_count": null,
   "metadata": {},
   "outputs": [],
   "source": []
  }
 ],
 "metadata": {
  "kernelspec": {
   "display_name": "base",
   "language": "python",
   "name": "python3"
  },
  "language_info": {
   "codemirror_mode": {
    "name": "ipython",
    "version": 3
   },
   "file_extension": ".py",
   "mimetype": "text/x-python",
   "name": "python",
   "nbconvert_exporter": "python",
   "pygments_lexer": "ipython3",
   "version": "3.9.13"
  }
 },
 "nbformat": 4,
 "nbformat_minor": 2
}
