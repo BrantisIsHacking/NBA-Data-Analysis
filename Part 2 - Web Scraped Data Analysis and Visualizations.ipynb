{
 "cells": [
  {
   "cell_type": "markdown",
   "metadata": {},
   "source": [
    "# NBA Data Analysis\n",
    "\n",
    "**Name:** Brayden Uglione\n",
    "\n",
    "**Date:** 11/13/24\n",
    "\n",
    "**Exercise:** Project #2, Part 2: Web Scraped Data Analysis and Visualizations\n",
    "\n",
    "**Purpose:** Scrapes data from Basketball Reference for various NBA seasons, analyze the data, and answer questions regarding team performance metrics."
   ]
  },
  {
   "cell_type": "markdown",
   "metadata": {},
   "source": [
    "## Load Data"
   ]
  },
  {
   "cell_type": "markdown",
   "metadata": {},
   "source": [
    "### Import Libraries"
   ]
  },
  {
   "cell_type": "code",
   "execution_count": null,
   "metadata": {},
   "outputs": [],
   "source": [
    "# Alex The Analyst. (2023, June 27). BeautifulSoup + Requests | Web scraping in Python [Video]. YouTube. https://www.youtube.com/watch?v=bargNl2WeN4\n",
    "import requests\n",
    "from bs4 import BeautifulSoup\n",
    "import pandas as pd\n",
    "import time"
   ]
  },
  {
   "cell_type": "markdown",
   "metadata": {},
   "source": [
    "### Function to Scrape NBA Statistics"
   ]
  },
  {
   "cell_type": "code",
   "execution_count": null,
   "metadata": {},
   "outputs": [],
   "source": [
    "def scrape_nba_stats(url):\n",
    "    # Alex The Analyst. (2023, June 27). BeautifulSoup + Requests | Web scraping in Python [Video]. YouTube. https://www.youtube.com/watch?v=bargNl2WeN4\n",
    "    page = requests.get(url)\n",
    "    soup = BeautifulSoup(page.content, 'html.parser')\n",
    "\n",
    "    # Initialize empty lists\n",
    "    per_game_stats = []\n",
    "    total_stats_team = []\n",
    "    total_stats_opponent = []\n",
    "    advanced_stats = []\n",
    "\n",
    "    # Breuss, M. (2024, October 28). Beautiful soup: Build a web scraper with Python. https://realpython.com/beautiful-soup-web-scraper-python/\n",
    "\n",
    "    # Scrape Per Game Stats\n",
    "    per_game_table = soup.find('table', {'id': 'per_game-team'})\n",
    "    for row in per_game_table.find_all('tr')[1:]: # Get data from the table\n",
    "        cols = row.find_all('td') # Get all the columns in the row\n",
    "        \n",
    "        if cols: # Check if there are columns\n",
    "            # Skip the row if it's the league average\n",
    "            if cols[0].text.strip() == \"League Average\":\n",
    "                continue\n",
    "            \n",
    "            # Extract the data from the columns\n",
    "            team = cols[0].text.strip()\n",
    "            three_point_attempts = float(cols[7].text.strip())\n",
    "            total_rebounds = float(cols[17].text.strip())\n",
    "            \n",
    "            # Append the data to the list\n",
    "            per_game_stats.append({\n",
    "                'Team': team,\n",
    "                '3PA': three_point_attempts,\n",
    "                'TRB': total_rebounds\n",
    "            })\n",
    "\n",
    "    # Scrape Total Stats (Team)\n",
    "    total_stats_table = soup.find('table', {'id': 'totals-team'})\n",
    "    for row in total_stats_table.find_all('tr')[1:]: # Get data from the table\n",
    "        cols = row.find_all('td') # Get all the columns in the row\n",
    "        \n",
    "        if cols: # Check if there are columns\n",
    "            # Skip the row if it's the league average\n",
    "            if cols[0].text.strip() == \"League Average\":\n",
    "                continue\n",
    "            \n",
    "            # Extract the data from the columns\n",
    "            team = cols[0].text.strip()\n",
    "            points = int(cols[-1].text.strip())\n",
    "            assists = int(cols[-6].text.strip())\n",
    "            turnovers = int(cols[-3].text.strip())\n",
    "            \n",
    "            # Append the data to the list\n",
    "            total_stats_team.append({\n",
    "                'Team': team,\n",
    "                'PTS': points,\n",
    "                'AST': assists,\n",
    "                'TOV': turnovers\n",
    "            })\n",
    "    \n",
    "    # Scrape Total Stats (Opponent)\n",
    "    opponent_stats_table = soup.find('table', {'id': 'totals-opponent'})\n",
    "    for row in opponent_stats_table.find_all('tr')[1:]: # Get data from the table\n",
    "        cols = row.find_all('td') # Get all the columns in the row\n",
    "        \n",
    "        if cols: # Check if there are columns\n",
    "            # Skip the row if it's the league average\n",
    "            if cols[0].text.strip() == \"League Average\":\n",
    "                continue\n",
    "            \n",
    "            # Extract the data from the columns\n",
    "            team = cols[0].text.strip() \n",
    "            points = int(cols[-1].text.strip())\n",
    "            \n",
    "            # Append the data to the list\n",
    "            total_stats_opponent.append({\n",
    "                'Team': team,\n",
    "                'PTS_Opponent': points\n",
    "            })\n",
    "\n",
    "    # Scrape Advanced Stats\n",
    "    advanced_stats_table = soup.find('table', {'id': 'advanced-team'})\n",
    "    for row in advanced_stats_table.find_all('tr')[1:]: # Get data from the table\n",
    "        cols = row.find_all('td') # Get all the columns in the row\n",
    "        \n",
    "        if cols: # Check if there are columns\n",
    "            # Skip the row if it's the league average\n",
    "            if cols[0].text.strip() == \"League Average\":\n",
    "                continue\n",
    "            \n",
    "            # Extract the data from the columns\n",
    "            team = cols[0].text.strip()\n",
    "            offensive_rating = float(cols[9].text.strip())\n",
    "            wins = int(cols[2].text.strip())\n",
    "            losses = int(cols[3].text.strip())\n",
    "            \n",
    "            # Append the data to the list\n",
    "            advanced_stats.append({\n",
    "                'Team': team,\n",
    "                'ORTg': offensive_rating,\n",
    "                'W': wins,\n",
    "                'L': losses\n",
    "            })\n",
    "\n",
    "    # Convert lists to DataFrames\n",
    "    df_per_game = pd.DataFrame(per_game_stats)\n",
    "    df_total_team = pd.DataFrame(total_stats_team)\n",
    "    df_total_opponent = pd.DataFrame(total_stats_opponent)\n",
    "    df_advanced = pd.DataFrame(advanced_stats)\n",
    "\n",
    "    # ChatGPT, response to \"How to merge pandas data frames\", OpenAI, November 12, 2024.\n",
    "    merged_df = df_per_game.merge(df_total_team, on='Team', how='outer').merge(df_total_opponent, on='Team', how='outer').merge(df_advanced, on='Team', how='outer')\n",
    "    \n",
    "    # Return the merged DataFrame\n",
    "    return merged_df"
   ]
  },
  {
   "cell_type": "markdown",
   "metadata": {},
   "source": [
    "### Use Functions to Scrape Data"
   ]
  },
  {
   "cell_type": "code",
   "execution_count": null,
   "metadata": {},
   "outputs": [],
   "source": [
    "# Scrape 2019-2020 data\n",
    "url = \"https://www.basketball-reference.com/leagues/NBA_2020.html\"\n",
    "nba_data_2020_df = scrape_nba_stats(url)\n",
    "\n",
    "# Scrape 2020-2021 data\n",
    "url = \"https://www.basketball-reference.com/leagues/NBA_2021.html\"\n",
    "nba_data_2021_df = scrape_nba_stats(url)\n",
    "\n",
    "# Scrape 2021-2022 data\n",
    "url = \"https://www.basketball-reference.com/leagues/NBA_2022.html\"\n",
    "nba_data_2022_df = scrape_nba_stats(url)\n",
    "\n",
    "# Scrape 2022-2023 data\n",
    "url = \"https://www.basketball-reference.com/leagues/NBA_2023.html\"\n",
    "nba_data_2023_df = scrape_nba_stats(url)\n",
    "\n",
    "# Scrape 2023-2024 data\n",
    "url = \"https://www.basketball-reference.com/leagues/NBA_2024.html\"\n",
    "nba_data_2024_df = scrape_nba_stats(url)"
   ]
  },
  {
   "cell_type": "markdown",
   "metadata": {},
   "source": [
    "## Data Analysis and Visualization"
   ]
  },
  {
   "cell_type": "markdown",
   "metadata": {},
   "source": [
    "### Import Libraries"
   ]
  },
  {
   "cell_type": "code",
   "execution_count": null,
   "metadata": {},
   "outputs": [],
   "source": [
    "import pandas as pd\n",
    "import seaborn as sns\n",
    "import matplotlib.pyplot as plt\n",
    "import numpy as np"
   ]
  },
  {
   "cell_type": "markdown",
   "metadata": {},
   "source": [
    "### Question 1\n",
    "How does the offensive efficiency correlate with team success in the 2023-24 NBA season?"
   ]
  },
  {
   "cell_type": "markdown",
   "metadata": {},
   "source": [
    "Calculate Winning Percentage"
   ]
  },
  {
   "cell_type": "code",
   "execution_count": null,
   "metadata": {},
   "outputs": [],
   "source": [
    "nba_data_2024_df['Win_Percentage'] = nba_data_2024_df['W'] / (nba_data_2024_df['W'] + nba_data_2024_df['L'])"
   ]
  },
  {
   "cell_type": "markdown",
   "metadata": {},
   "source": [
    "Sort Offensive Rating Values in Data Frame"
   ]
  },
  {
   "cell_type": "code",
   "execution_count": null,
   "metadata": {},
   "outputs": [],
   "source": [
    "efficiency_data = nba_data_2024_df[['ORTg', 'Win_Percentage']].sort_values('ORTg')"
   ]
  },
  {
   "cell_type": "markdown",
   "metadata": {},
   "source": [
    "Plot Data"
   ]
  },
  {
   "cell_type": "code",
   "execution_count": null,
   "metadata": {},
   "outputs": [],
   "source": [
    "plt.plot(efficiency_data['ORTg'], efficiency_data['Win_Percentage']) # Create a line graph\n",
    "plt.title('Offensive Efficiency vs. Win Percentage (2023-24 NBA Season)') # Add a title\n",
    "# Add labels\n",
    "plt.xlabel('Offensive Rating')\n",
    "plt.ylabel('Win Percentage')\n",
    "\n",
    "# ChatGPT, response to \"How to make a trend line in matplotlib\", OpenAI, November 12, 2024.\n",
    "z = np.polyfit(efficiency_data['ORTg'], efficiency_data['Win_Percentage'], 1)\n",
    "p = np.poly1d(z)\n",
    "plt.plot(efficiency_data['ORTg'], p(efficiency_data['ORTg']))\n",
    "\n",
    "plt.show() # Display the plot"
   ]
  },
  {
   "cell_type": "markdown",
   "metadata": {},
   "source": [
    "### Question 2\n",
    "Which teams had the best and worst point differentials in the 2022-23 NBA season?"
   ]
  },
  {
   "cell_type": "markdown",
   "metadata": {},
   "source": [
    "Calculate Point Differential & Sort Values in Data Frame"
   ]
  },
  {
   "cell_type": "code",
   "execution_count": null,
   "metadata": {},
   "outputs": [],
   "source": [
    "nba_data_2023_df['Point_Differential'] = nba_data_2023_df['PTS'] - nba_data_2023_df['PTS_Opponent'] # Calculate point differential\n",
    "df_sorted = nba_data_2023_df.sort_values('Point_Differential', ascending=False) # Sort the data by point differential"
   ]
  },
  {
   "cell_type": "markdown",
   "metadata": {},
   "source": [
    "Plot Data"
   ]
  },
  {
   "cell_type": "code",
   "execution_count": null,
   "metadata": {},
   "outputs": [],
   "source": [
    "sns.barplot(data=df_sorted, x='Point_Differential', y='Team', palette='coolwarm') # Create a bar plot\n",
    "plt.title('Team Point Differentials (2022-23 NBA Season)') # Add a title\n",
    "# Add labels\n",
    "plt.xlabel('Point Differential')\n",
    "plt.ylabel('Team')\n",
    "\n",
    "plt.show() # Display the plot"
   ]
  },
  {
   "cell_type": "markdown",
   "metadata": {},
   "source": [
    "### Question 3\n",
    "Is there a significant difference in the average number of three-pointers attempted between the top 5 and bottom 5 teams in the 2021-22 NBA season?"
   ]
  },
  {
   "cell_type": "markdown",
   "metadata": {},
   "source": [
    "Sort Teams by Wins & Calculate Top & Bottom 5 Teams for Three-Pointers Attempted"
   ]
  },
  {
   "cell_type": "code",
   "execution_count": null,
   "metadata": {},
   "outputs": [],
   "source": [
    "df_sorted = nba_data_2022_df.sort_values('W', ascending=False) # Sort teams by wins\n",
    "\n",
    "top_5 = df_sorted.head(5) # Get top 5 teams\n",
    "bottom_5 = df_sorted.tail(5) # Get bottom 5 teams"
   ]
  },
  {
   "cell_type": "markdown",
   "metadata": {},
   "source": [
    "Plot Data"
   ]
  },
  {
   "cell_type": "code",
   "execution_count": null,
   "metadata": {},
   "outputs": [],
   "source": [
    "# Set up the plot\n",
    "bar_width = 0.35\n",
    "index = range(1, 6)\n",
    "\n",
    "# ChatGPT, response to \"How to create a grouped bar chart\", OpenAI, November 12, 2024.\n",
    "plt.bar(index, top_5['3PA'], bar_width, label='Top 5 Teams', color='skyblue')\n",
    "plt.bar([i + bar_width for i in index], bottom_5['3PA'], bar_width, label='Bottom 5 Teams', color='lightcoral')\n",
    "\n",
    "# Add labels\n",
    "plt.xlabel('Team Rank')\n",
    "plt.ylabel('3-Point Attempts per Game')\n",
    "\n",
    "plt.title('3-Point Attempts: Top 5 vs Bottom 5 Teams (2021-22 NBA Season)') # Add a title\n",
    "plt.legend() # Add a legend\n",
    "\n",
    "plt.show() # Display the plot"
   ]
  },
  {
   "cell_type": "markdown",
   "metadata": {},
   "source": [
    "### Question 4\n",
    "How did the number of team rebounds correlate with team success in the 2020-21 NBA season?"
   ]
  },
  {
   "cell_type": "markdown",
   "metadata": {},
   "source": [
    "Calculate Winning Percentage"
   ]
  },
  {
   "cell_type": "code",
   "execution_count": null,
   "metadata": {},
   "outputs": [],
   "source": [
    "nba_data_2021_df['Win_Percentage'] = nba_data_2021_df['W'] / (nba_data_2021_df['W'] + nba_data_2021_df['L']) # Calculate win percentage"
   ]
  },
  {
   "cell_type": "markdown",
   "metadata": {},
   "source": [
    "Sort Rebounds Values (for better plotting)"
   ]
  },
  {
   "cell_type": "code",
   "execution_count": null,
   "metadata": {},
   "outputs": [],
   "source": [
    "rebounds_data = nba_data_2021_df[['TRB', 'Win_Percentage']].sort_values('TRB') # Sort data by total rebounds"
   ]
  },
  {
   "cell_type": "markdown",
   "metadata": {},
   "source": [
    "Plot data"
   ]
  },
  {
   "cell_type": "code",
   "execution_count": null,
   "metadata": {},
   "outputs": [],
   "source": [
    "plt.plot(rebounds_data['TRB'], rebounds_data['Win_Percentage']) # Create a line graph\n",
    "plt.title('Team Rebounds vs. Win Percentage (2020-21 NBA Season)') # Add a title\n",
    "# Add labels\n",
    "plt.xlabel('Total Rebounds per Game (TRB)')\n",
    "plt.ylabel('Win Percentage')\n",
    "\n",
    "# Add trend line\n",
    "z = np.polyfit(rebounds_data['TRB'], rebounds_data['Win_Percentage'], 1)\n",
    "p = np.poly1d(z)\n",
    "plt.plot(rebounds_data['TRB'], p(rebounds_data['TRB']))\n",
    "\n",
    "plt.show() # Display the plot"
   ]
  },
  {
   "cell_type": "markdown",
   "metadata": {},
   "source": [
    "Test the correlation between Rebounds and Win Percentage"
   ]
  },
  {
   "cell_type": "code",
   "execution_count": null,
   "metadata": {},
   "outputs": [],
   "source": [
    "# ChatGPT, response to \"How to find the correlation between two variables in a data frame\", OpenAI, November 12, 2024.\n",
    "correlation = rebounds_data['TRB'].corr(rebounds_data['Win_Percentage']) # Calculate correlation\n",
    "print(f\"Correlation between Total Rebounds and Win Percentage: {correlation:.2f}%\") # Print correlation"
   ]
  },
  {
   "cell_type": "markdown",
   "metadata": {},
   "source": [
    "### Question 5\n",
    "Which teams had the highest and lowest assist-to-turnover ratios in the 2019-20 NBA season?"
   ]
  },
  {
   "cell_type": "markdown",
   "metadata": {},
   "source": [
    "Calculate Assist to Turnover Ratio & Sort Values in Data Frame"
   ]
  },
  {
   "cell_type": "code",
   "execution_count": null,
   "metadata": {},
   "outputs": [],
   "source": [
    "nba_data_2020_df['AST_TO_Ratio'] = nba_data_2020_df['AST'] / nba_data_2020_df['TOV'] # Calculate assist-to-turnover ratio\n",
    "df_sorted = nba_data_2020_df.sort_values('AST_TO_Ratio', ascending=False) # Sort data by assist-to-turnover ratio"
   ]
  },
  {
   "cell_type": "markdown",
   "metadata": {},
   "source": [
    "Plot Data"
   ]
  },
  {
   "cell_type": "code",
   "execution_count": null,
   "metadata": {},
   "outputs": [],
   "source": [
    "sns.barplot(data=df_sorted, x='AST_TO_Ratio', y='Team', palette='viridis') # Create a bar plot\n",
    "plt.title('Team Assist-to-Turnover Ratios (2019-20 NBA Season)') # Add a title\n",
    "# Add labels\n",
    "plt.xlabel('Assist-to-Turnover Ratio')\n",
    "plt.ylabel('Team')\n",
    "\n",
    "plt.show() # Display the plot"
   ]
  }
 ],
 "metadata": {
  "kernelspec": {
   "display_name": "base",
   "language": "python",
   "name": "python3"
  },
  "language_info": {
   "codemirror_mode": {
    "name": "ipython",
    "version": 3
   },
   "file_extension": ".py",
   "mimetype": "text/x-python",
   "name": "python",
   "nbconvert_exporter": "python",
   "pygments_lexer": "ipython3",
   "version": "3.9.13"
  }
 },
 "nbformat": 4,
 "nbformat_minor": 2
}
